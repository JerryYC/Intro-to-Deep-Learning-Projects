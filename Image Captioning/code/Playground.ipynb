{
 "cells": [
  {
   "cell_type": "code",
   "execution_count": null,
   "metadata": {},
   "outputs": [],
   "source": [
    "%load_ext autoreload\n",
    "%autoreload 2\n",
    "from experiment import *"
   ]
  },
  {
   "cell_type": "code",
   "execution_count": null,
   "metadata": {
    "scrolled": true
   },
   "outputs": [],
   "source": [
    "experiment = Experiment('default')"
   ]
  },
  {
   "cell_type": "code",
   "execution_count": null,
   "metadata": {
    "scrolled": true
   },
   "outputs": [],
   "source": [
    "experiment.run()"
   ]
  },
  {
   "cell_type": "code",
   "execution_count": null,
   "metadata": {},
   "outputs": [],
   "source": [
    "experiment.test()"
   ]
  },
  {
   "cell_type": "code",
   "execution_count": null,
   "metadata": {},
   "outputs": [],
   "source": [
    "image, caps, pred = experiment.generate_visualization()\n",
    "plt.figure()\n",
    "plt.text(0,image.size[1]+100,'ORIGINAL CAPTIONS',bbox=dict(facecolor='red', alpha=0.2))\n",
    "for i in range(len(caps)):\n",
    "    plt.text(0,image.size[1]+i*50+150,caps[i])\n",
    "plt.text(0,image.size[1]+(i+1)*50+150,'GENERATED CAPTIONS',bbox=dict(facecolor='green', alpha=0.2))\n",
    "plt.text(0,image.size[1]+(i+1)*50+200,pred)\n",
    "plt.imshow(image);"
   ]
  }
 ],
 "metadata": {
  "kernelspec": {
   "display_name": "Python 3",
   "language": "python",
   "name": "python3"
  },
  "language_info": {
   "codemirror_mode": {
    "name": "ipython",
    "version": 3
   },
   "file_extension": ".py",
   "mimetype": "text/x-python",
   "name": "python",
   "nbconvert_exporter": "python",
   "pygments_lexer": "ipython3",
   "version": "3.7.7"
  }
 },
 "nbformat": 4,
 "nbformat_minor": 4
}
